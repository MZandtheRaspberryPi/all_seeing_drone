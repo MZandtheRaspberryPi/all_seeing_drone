{
 "cells": [
  {
   "cell_type": "code",
   "execution_count": 1,
   "metadata": {},
   "outputs": [
    {
     "name": "stdout",
     "output_type": "stream",
     "text": [
      "pygame 1.9.6\n",
      "Hello from the pygame community. https://www.pygame.org/contribute.html\n"
     ]
    },
    {
     "name": "stderr",
     "output_type": "stream",
     "text": [
      "2020-04-24 20:16:22,122 [INFO ]  No joysticks found.\n"
     ]
    }
   ],
   "source": [
    "# remind to add your virtual environment to jupyter notebook kernels if using a virtual env\n",
    "# https://janakiev.com/blog/jupyter-virtual-envs/\n",
    "from all_seeing_drone.drone import SeeingDrone\n",
    "\n",
    "drone = SeeingDrone(r\"C:\\Users\\Mikey\\Videos\\droneVideos\")\n",
    "# drone.connect()"
   ]
  },
  {
   "cell_type": "code",
   "execution_count": 2,
   "metadata": {},
   "outputs": [
    {
     "name": "stdout",
     "output_type": "stream",
     "text": [
      "loading dnn model and weights from disk\n",
      "setting up KCF Tracker\n"
     ]
    },
    {
     "ename": "AttributeError",
     "evalue": "module 'cv2.cv2' has no attribute 'Tracker_create'",
     "output_type": "error",
     "traceback": [
      "\u001b[1;31m---------------------------------------------------------------------------\u001b[0m",
      "\u001b[1;31mAttributeError\u001b[0m                            Traceback (most recent call last)",
      "\u001b[1;32m<ipython-input-2-3e6c1dc9466b>\u001b[0m in \u001b[0;36m<module>\u001b[1;34m\u001b[0m\n\u001b[1;32m----> 1\u001b[1;33m \u001b[0mdrone\u001b[0m\u001b[1;33m.\u001b[0m\u001b[0mshow_camera\u001b[0m\u001b[1;33m(\u001b[0m\u001b[0mfind_face\u001b[0m\u001b[1;33m=\u001b[0m\u001b[1;32mTrue\u001b[0m\u001b[1;33m)\u001b[0m\u001b[1;33m\u001b[0m\u001b[0m\n\u001b[0m",
      "\u001b[1;32m~\\github\\im_practical_programming\\all_seeing_drone\\all_seeing_drone\\drone.py\u001b[0m in \u001b[0;36mshow_camera\u001b[1;34m(self, find_face, min_confidence)\u001b[0m\n\u001b[0;32m    243\u001b[0m \u001b[1;33m\u001b[0m\u001b[0m\n\u001b[0;32m    244\u001b[0m     \u001b[1;32mdef\u001b[0m \u001b[0mshow_camera\u001b[0m\u001b[1;33m(\u001b[0m\u001b[0mself\u001b[0m\u001b[1;33m,\u001b[0m \u001b[0mfind_face\u001b[0m\u001b[1;33m=\u001b[0m\u001b[1;32mFalse\u001b[0m\u001b[1;33m,\u001b[0m \u001b[0mmin_confidence\u001b[0m\u001b[1;33m=\u001b[0m\u001b[1;36m.6\u001b[0m\u001b[1;33m)\u001b[0m\u001b[1;33m:\u001b[0m\u001b[1;33m\u001b[0m\u001b[0m\n\u001b[1;32m--> 245\u001b[1;33m         \u001b[0mself\u001b[0m\u001b[1;33m.\u001b[0m\u001b[0m_setup_camera\u001b[0m\u001b[1;33m(\u001b[0m\u001b[0mfind_face\u001b[0m\u001b[1;33m,\u001b[0m \u001b[0mmin_confidence\u001b[0m\u001b[1;33m)\u001b[0m\u001b[1;33m\u001b[0m\u001b[0m\n\u001b[0m\u001b[0;32m    246\u001b[0m         print(\"Starting Camera, press q to quit with camera window in focus. \"\n\u001b[0;32m    247\u001b[0m               \"If it doesn't close, check caps lock and num lock.\", flush=True)\n",
      "\u001b[1;32m~\\github\\im_practical_programming\\all_seeing_drone\\all_seeing_drone\\drone.py\u001b[0m in \u001b[0;36m_setup_camera\u001b[1;34m(self, setup_face_finder, min_confidence)\u001b[0m\n\u001b[0;32m    186\u001b[0m             \u001b[0mprint\u001b[0m\u001b[1;33m(\u001b[0m\u001b[1;34m\"setting up KCF Tracker\"\u001b[0m\u001b[1;33m)\u001b[0m\u001b[1;33m\u001b[0m\u001b[0m\n\u001b[0;32m    187\u001b[0m             \u001b[1;31m# setting up tracker we'll use to track face when dnn can't recognize it\u001b[0m\u001b[1;33m\u001b[0m\u001b[1;33m\u001b[0m\u001b[0m\n\u001b[1;32m--> 188\u001b[1;33m             \u001b[0mself\u001b[0m\u001b[1;33m.\u001b[0m\u001b[0mtracker\u001b[0m \u001b[1;33m=\u001b[0m \u001b[0mcv2\u001b[0m\u001b[1;33m.\u001b[0m\u001b[0mTracker_create\u001b[0m\u001b[1;33m(\u001b[0m\u001b[1;34m'KCF'\u001b[0m\u001b[1;33m)\u001b[0m\u001b[1;33m\u001b[0m\u001b[0m\n\u001b[0m\u001b[0;32m    189\u001b[0m             \u001b[0mself\u001b[0m\u001b[1;33m.\u001b[0m\u001b[0mtracker_bb\u001b[0m \u001b[1;33m=\u001b[0m \u001b[1;32mNone\u001b[0m\u001b[1;33m\u001b[0m\u001b[0m\n\u001b[0;32m    190\u001b[0m \u001b[1;33m\u001b[0m\u001b[0m\n",
      "\u001b[1;31mAttributeError\u001b[0m: module 'cv2.cv2' has no attribute 'Tracker_create'"
     ]
    }
   ],
   "source": [
    "drone.show_camera(find_face=True)"
   ]
  },
  {
   "cell_type": "code",
   "execution_count": 3,
   "metadata": {},
   "outputs": [
    {
     "name": "stdout",
     "output_type": "stream",
     "text": [
      "attrs==19.3.0\n",
      "backcall==0.1.0\n",
      "bleach==3.1.4\n",
      "CoDrone==1.2.5\n",
      "colorama==0.4.3\n",
      "cycler==0.10.0\n",
      "decorator==4.4.2\n",
      "defusedxml==0.6.0\n",
      "entrypoints==0.3\n",
      "importlib-metadata==1.6.0\n",
      "ipykernel==5.2.1\n",
      "ipython==7.13.0\n",
      "ipython-genutils==0.2.0\n",
      "ipywidgets==7.5.1\n",
      "jedi==0.17.0\n",
      "Jinja2==2.11.2\n",
      "jsonschema==3.2.0\n",
      "jupyter==1.0.0\n",
      "jupyter-client==6.1.3\n",
      "jupyter-console==6.1.0\n",
      "jupyter-core==4.6.3\n",
      "kiwisolver==1.2.0\n",
      "MarkupSafe==1.1.1\n",
      "matplotlib==3.2.1\n",
      "mistune==0.8.4\n",
      "nbconvert==5.6.1\n",
      "nbformat==5.0.6\n",
      "notebook==6.0.3\n",
      "numpy==1.18.3\n",
      "opencv-contrib-python==4.2.0.34\n",
      "pandocfilters==1.4.2\n",
      "parso==0.7.0\n",
      "pickleshare==0.7.5\n",
      "prometheus-client==0.7.1\n",
      "prompt-toolkit==3.0.5\n",
      "pygame==1.9.6\n",
      "Pygments==2.6.1\n",
      "pyparsing==2.4.7\n",
      "pyrsistent==0.16.0\n",
      "pyserial==3.4\n",
      "python-dateutil==2.8.1\n",
      "pywin32==227\n",
      "pywinpty==0.5.7\n",
      "pyzmq==19.0.0\n",
      "qtconsole==4.7.3\n",
      "QtPy==1.9.0\n",
      "Send2Trash==1.5.0\n",
      "six==1.14.0\n",
      "terminado==0.8.3\n",
      "testpath==0.4.4\n",
      "tornado==6.0.4\n",
      "traitlets==4.3.3\n",
      "wcwidth==0.1.9\n",
      "webencodings==0.5.1\n",
      "widgetsnbextension==3.5.1\n",
      "zipp==3.1.0\n"
     ]
    }
   ],
   "source": [
    "!pip freeze"
   ]
  }
 ],
 "metadata": {
  "kernelspec": {
   "display_name": "all_seeing_drone",
   "language": "python",
   "name": "all_seeing_drone"
  }
 },
 "nbformat": 4,
 "nbformat_minor": 2
}
