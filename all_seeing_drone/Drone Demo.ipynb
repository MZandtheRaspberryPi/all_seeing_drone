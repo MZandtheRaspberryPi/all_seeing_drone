{
 "cells": [
  {
   "cell_type": "markdown",
   "metadata": {},
   "source": [
    "## How to Use\n",
    "You need to create a virtual environment, point this notebook to the virtual environment, and then run the first code cell.\n",
    "\n",
    "To create the venv ([this link is helpful](https://janakiev.com/blog/jupyter-virtual-envs/)):\n",
    "\n",
    "```\n",
    "# create virtual env by doing going to the root of the git repo in a command line tool like gitbash\n",
    "# where you want to create the virtual environment, and doing the below command\n",
    "python -m venv .venv\n",
    "# activate it so you can run code with it by doing the below in windows:\n",
    ".venv/Scripts/activate.bat\n",
    "# then install required libraries\n",
    "pip install -r requirements.txt\n",
    "pip install ipykernel\n",
    "\n",
    "# setup this as a ipykernel you can use in the jupyter notebook\n",
    "python -m ipykernel install --name=.venv\n",
    "# then when done use the below command to remove\n",
    "jupyter kernelspec uninstall .venv\n",
    "\n",
    "# finally in jupyter notebook change your kernel to this new one by going to kernel dropdown in the top and then change kernel, and then .venv\n",
    "```"
   ]
  },
  {
   "cell_type": "code",
   "execution_count": 1,
   "metadata": {},
   "outputs": [
    {
     "name": "stdout",
     "output_type": "stream",
     "text": [
      "pygame 1.9.6\n",
      "Hello from the pygame community. https://www.pygame.org/contribute.html\n"
     ]
    },
    {
     "name": "stderr",
     "output_type": "stream",
     "text": [
      "2020-04-25 17:59:33,433 [INFO ]  No joysticks found.\n",
      "2020-04-25 17:59:33,441 [INFO ]  Pairing\n"
     ]
    },
    {
     "name": "stdout",
     "output_type": "stream",
     "text": [
      ">> Port : [COM5]\n",
      ">> Drone : [2817]\n",
      ">> Battery : [38]\n"
     ]
    },
    {
     "name": "stderr",
     "output_type": "stream",
     "text": [
      "2020-04-25 17:59:41,874 [INFO ]  Paired\n"
     ]
    },
    {
     "name": "stdout",
     "output_type": "stream",
     "text": [
      "loading dnn model and weights from disk\n",
      "setting up KCF Tracker\n",
      "Starting Camera, press q to quit with camera window in focus. If it doesn't close, check caps lock and num lock.\n",
      "taking off\n",
      "landing\n"
     ]
    },
    {
     "name": "stderr",
     "output_type": "stream",
     "text": [
      "2020-04-25 18:00:01,891 [INFO ]  elasped cam time: 17.60\n",
      "2020-04-25 18:00:01,895 [INFO ]  approx. cam FPS: 26.08\n",
      "2020-04-25 18:00:01,899 [INFO ]  elasped act time: 17.60\n",
      "2020-04-25 18:00:01,903 [INFO ]  approx. act FPS: 9.32\n"
     ]
    },
    {
     "name": "stdout",
     "output_type": "stream",
     "text": [
      "Writing out video to C:\\Users\\Mikey\\Videos\\droneVideos\\drone_20200425_1759.avi\n"
     ]
    },
    {
     "name": "stderr",
     "output_type": "stream",
     "text": [
      "2020-04-25 18:00:02,323 [INFO ]  shutting down\n"
     ]
    }
   ],
   "source": [
    "from all_seeing_drone.drone import SeeingDrone\n",
    "\n",
    "# change the directory here to be the output directory on your computer. Output videos and log files will be written there.\n",
    "drone = SeeingDrone(r\"C:\\Users\\Mikey\\Videos\\droneVideos\")\n",
    "\n",
    "# launch the drone with autonomy below\n",
    "drone.activate_drone(find_face=True, launch=True, use_tracker=True, keep_distance=True)"
   ]
  },
  {
   "cell_type": "markdown",
   "metadata": {},
   "source": [
    "This below cell is useful if you see drone drift. Restart your kernel and then run this cell."
   ]
  },
  {
   "cell_type": "code",
   "execution_count": 4,
   "metadata": {},
   "outputs": [
    {
     "name": "stdout",
     "output_type": "stream",
     "text": [
      ">> Port : [COM5]\n",
      ">> Drone : [2817]\n",
      ">> Battery : [78]\n",
      "start\n",
      "ready to send\n"
     ]
    },
    {
     "name": "stderr",
     "output_type": "stream",
     "text": [
      "Exception in thread Thread-11:\n",
      "Traceback (most recent call last):\n",
      "  File \"C:\\Users\\Mikey\\AppData\\Local\\Programs\\Python\\Python36\\lib\\threading.py\", line 916, in _bootstrap_inner\n",
      "    self.run()\n",
      "  File \"C:\\Users\\Mikey\\AppData\\Local\\Programs\\Python\\Python36\\lib\\threading.py\", line 864, in run\n",
      "    self._target(*self._args, **self._kwargs)\n",
      "  File \"C:\\Users\\Mikey\\github\\im_practical_programming\\all_seeing_drone\\.venv\\lib\\site-packages\\CoDrone\\codrone.py\", line 144, in _receiving\n",
      "    self._bufferQueue.put(self._serialPort.read())\n",
      "  File \"C:\\Users\\Mikey\\github\\im_practical_programming\\all_seeing_drone\\.venv\\lib\\site-packages\\serial\\serialwin32.py\", line 273, in read\n",
      "    raise SerialException(\"ClearCommError failed ({!r})\".format(ctypes.WinError()))\n",
      "serial.serialutil.SerialException: ClearCommError failed (PermissionError(13, 'Access is denied.', None, 5))\n",
      "\n"
     ]
    }
   ],
   "source": [
    "from all_seeing_drone.drone import SeeingDrone\n",
    "SeeingDrone.calibrate_drone()"
   ]
  },
  {
   "cell_type": "markdown",
   "metadata": {},
   "source": [
    "The below is a useful function to debug the computer vision aspects of the drone. It doesn't launch the drone."
   ]
  },
  {
   "cell_type": "code",
   "execution_count": 1,
   "metadata": {},
   "outputs": [
    {
     "name": "stdout",
     "output_type": "stream",
     "text": [
      "pygame 1.9.6\n",
      "Hello from the pygame community. https://www.pygame.org/contribute.html\n"
     ]
    },
    {
     "name": "stderr",
     "output_type": "stream",
     "text": [
      "2020-04-26 18:03:20,659 [INFO ]  No joysticks found.\n"
     ]
    },
    {
     "name": "stdout",
     "output_type": "stream",
     "text": [
      "loading dnn model and weights from disk\n",
      "setting up KCF Tracker\n"
     ]
    },
    {
     "name": "stderr",
     "output_type": "stream",
     "text": [
      "2020-04-26 18:04:08,967 [INFO ]  elasped cam time: 44.93\n",
      "2020-04-26 18:04:08,974 [INFO ]  approx. cam FPS: 29.98\n",
      "2020-04-26 18:04:08,980 [INFO ]  elasped act time: 44.93\n",
      "2020-04-26 18:04:08,986 [INFO ]  approx. act FPS: 6.52\n"
     ]
    },
    {
     "name": "stdout",
     "output_type": "stream",
     "text": [
      "Writing out video to C:\\Users\\Mikey\\Videos\\droneVideos\\drone_20200426_1803.avi\n"
     ]
    }
   ],
   "source": [
    "from all_seeing_drone.drone import SeeingDrone\n",
    "\n",
    "drone = SeeingDrone(r\"C:\\Users\\Mikey\\Videos\\droneVideos\", logging_level=logging.DEBUG)\n",
    "drone.computer_video_check(find_face=True)"
   ]
  }
 ],
 "metadata": {
  "kernelspec": {
   "display_name": ".venv",
   "language": "python",
   "name": ".venv"
  },
  "language_info": {
   "codemirror_mode": {
    "name": "ipython",
    "version": 3
   },
   "file_extension": ".py",
   "mimetype": "text/x-python",
   "name": "python",
   "nbconvert_exporter": "python",
   "pygments_lexer": "ipython3",
   "version": "3.6.5"
  }
 },
 "nbformat": 4,
 "nbformat_minor": 2
}
