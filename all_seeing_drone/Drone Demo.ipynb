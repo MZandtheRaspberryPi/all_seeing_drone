{
 "cells": [
  {
   "cell_type": "code",
   "execution_count": 1,
   "metadata": {},
   "outputs": [
    {
     "name": "stdout",
     "output_type": "stream",
     "text": [
      "pygame 1.9.6\n",
      "Hello from the pygame community. https://www.pygame.org/contribute.html\n"
     ]
    },
    {
     "name": "stderr",
     "output_type": "stream",
     "text": [
      "2020-04-23 20:38:25,358 [INFO ]  No joysticks found.\n",
      "2020-04-23 20:38:25,361 [INFO ]  Pairing\n"
     ]
    },
    {
     "name": "stdout",
     "output_type": "stream",
     "text": [
      ">> Port : [COM5]\n",
      ">> Drone : [2817]\n",
      ">> Battery : [98]\n"
     ]
    },
    {
     "name": "stderr",
     "output_type": "stream",
     "text": [
      "2020-04-23 20:38:33,703 [INFO ]  Paired\n"
     ]
    }
   ],
   "source": [
    "from all_seeing_drone.drone import SeeingDrone\n",
    "\n",
    "drone = SeeingDrone(r\"C:\\Users\\Mikey\\Videos\\droneVideos\")\n",
    "drone.connect()"
   ]
  },
  {
   "cell_type": "code",
   "execution_count": 2,
   "metadata": {},
   "outputs": [
    {
     "name": "stdout",
     "output_type": "stream",
     "text": [
      "Staring Camera, press q to quit with camera window in focus. If it doesn't close, check caps lock and num lock.\n"
     ]
    },
    {
     "name": "stderr",
     "output_type": "stream",
     "text": [
      "2020-04-23 20:38:56,156 [INFO ]  elasped cam time: 10.40\n",
      "2020-04-23 20:38:56,161 [INFO ]  approx. cam FPS: 26.91\n",
      "2020-04-23 20:38:56,165 [INFO ]  elasped act time: 10.40\n",
      "2020-04-23 20:38:56,170 [INFO ]  approx. act FPS: 31.62\n"
     ]
    },
    {
     "name": "stdout",
     "output_type": "stream",
     "text": [
      "Writing out video to C:\\Users\\Mikey\\Videos\\droneVideos\\drone_20200423_2038.avi\n"
     ]
    },
    {
     "name": "stderr",
     "output_type": "stream",
     "text": [
      "2020-04-23 20:38:57,229 [INFO ]  shutting down\n"
     ]
    }
   ],
   "source": [
    "drone.show_camera()"
   ]
  }
 ],
 "metadata": {
  "kernelspec": {
   "display_name": "Python 3",
   "language": "python",
   "name": "python3"
  },
  "language_info": {
   "codemirror_mode": {
    "name": "ipython",
    "version": 3
   },
   "file_extension": ".py",
   "mimetype": "text/x-python",
   "name": "python",
   "nbconvert_exporter": "python",
   "pygments_lexer": "ipython3",
   "version": "3.6.5"
  }
 },
 "nbformat": 4,
 "nbformat_minor": 2
}
