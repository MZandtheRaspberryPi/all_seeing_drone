{
 "cells": [
  {
   "cell_type": "code",
   "execution_count": 1,
   "metadata": {},
   "outputs": [
    {
     "name": "stdout",
     "output_type": "stream",
     "text": [
      "pygame 1.9.6\n",
      "Hello from the pygame community. https://www.pygame.org/contribute.html\n"
     ]
    },
    {
     "name": "stderr",
     "output_type": "stream",
     "text": [
      "2020-04-25 17:59:33,433 [INFO ]  No joysticks found.\n",
      "2020-04-25 17:59:33,441 [INFO ]  Pairing\n"
     ]
    },
    {
     "name": "stdout",
     "output_type": "stream",
     "text": [
      ">> Port : [COM5]\n",
      ">> Drone : [2817]\n",
      ">> Battery : [38]\n"
     ]
    },
    {
     "name": "stderr",
     "output_type": "stream",
     "text": [
      "2020-04-25 17:59:41,874 [INFO ]  Paired\n"
     ]
    },
    {
     "name": "stdout",
     "output_type": "stream",
     "text": [
      "loading dnn model and weights from disk\n",
      "setting up KCF Tracker\n",
      "Starting Camera, press q to quit with camera window in focus. If it doesn't close, check caps lock and num lock.\n",
      "taking off\n",
      "landing\n"
     ]
    },
    {
     "name": "stderr",
     "output_type": "stream",
     "text": [
      "2020-04-25 18:00:01,891 [INFO ]  elasped cam time: 17.60\n",
      "2020-04-25 18:00:01,895 [INFO ]  approx. cam FPS: 26.08\n",
      "2020-04-25 18:00:01,899 [INFO ]  elasped act time: 17.60\n",
      "2020-04-25 18:00:01,903 [INFO ]  approx. act FPS: 9.32\n"
     ]
    },
    {
     "name": "stdout",
     "output_type": "stream",
     "text": [
      "Writing out video to C:\\Users\\Mikey\\Videos\\droneVideos\\drone_20200425_1759.avi\n"
     ]
    },
    {
     "name": "stderr",
     "output_type": "stream",
     "text": [
      "2020-04-25 18:00:02,323 [INFO ]  shutting down\n"
     ]
    }
   ],
   "source": [
    "# remind to add your virtual environment to jupyter notebook kernels if using a virtual env\n",
    "# https://janakiev.com/blog/jupyter-virtual-envs/\n",
    "# create virtual env by doing going to the root of the git repo\n",
    "# where you want to create the virtual environment, and doing the below command\n",
    "# python -m venv .venv\n",
    "# activate it so you can run code with it by doing the below in windows:\n",
    "# .venv/Scripts/activate.bat\n",
    "# then pip install -r requirements.txt\n",
    "# then pip install ipykernel\n",
    "# then python -m ipykernel install --name=.venv\n",
    "# then when done use the below command to remove\n",
    "# jupyter kernelspec uninstall .venv\n",
    "from all_seeing_drone.drone import SeeingDrone\n",
    "\n",
    "drone = SeeingDrone(r\"C:\\Users\\Mikey\\Videos\\droneVideos\")\n",
    "drone.launch_and_show_camera(find_face=True)"
   ]
  },
  {
   "cell_type": "code",
   "execution_count": 2,
   "metadata": {},
   "outputs": [
    {
     "name": "stdout",
     "output_type": "stream",
     "text": [
      "loading dnn model and weights from disk\n",
      "setting up KCF Tracker\n"
     ]
    },
    {
     "ename": "AttributeError",
     "evalue": "module 'cv2.cv2' has no attribute 'Tracker_create'",
     "output_type": "error",
     "traceback": [
      "\u001b[1;31m---------------------------------------------------------------------------\u001b[0m",
      "\u001b[1;31mAttributeError\u001b[0m                            Traceback (most recent call last)",
      "\u001b[1;32m<ipython-input-2-3e6c1dc9466b>\u001b[0m in \u001b[0;36m<module>\u001b[1;34m\u001b[0m\n\u001b[1;32m----> 1\u001b[1;33m \u001b[0mdrone\u001b[0m\u001b[1;33m.\u001b[0m\u001b[0mshow_camera\u001b[0m\u001b[1;33m(\u001b[0m\u001b[0mfind_face\u001b[0m\u001b[1;33m=\u001b[0m\u001b[1;32mTrue\u001b[0m\u001b[1;33m)\u001b[0m\u001b[1;33m\u001b[0m\u001b[0m\n\u001b[0m",
      "\u001b[1;32m~\\github\\im_practical_programming\\all_seeing_drone\\all_seeing_drone\\drone.py\u001b[0m in \u001b[0;36mshow_camera\u001b[1;34m(self, find_face, min_confidence)\u001b[0m\n\u001b[0;32m    243\u001b[0m \u001b[1;33m\u001b[0m\u001b[0m\n\u001b[0;32m    244\u001b[0m     \u001b[1;32mdef\u001b[0m \u001b[0mshow_camera\u001b[0m\u001b[1;33m(\u001b[0m\u001b[0mself\u001b[0m\u001b[1;33m,\u001b[0m \u001b[0mfind_face\u001b[0m\u001b[1;33m=\u001b[0m\u001b[1;32mFalse\u001b[0m\u001b[1;33m,\u001b[0m \u001b[0mmin_confidence\u001b[0m\u001b[1;33m=\u001b[0m\u001b[1;36m.6\u001b[0m\u001b[1;33m)\u001b[0m\u001b[1;33m:\u001b[0m\u001b[1;33m\u001b[0m\u001b[0m\n\u001b[1;32m--> 245\u001b[1;33m         \u001b[0mself\u001b[0m\u001b[1;33m.\u001b[0m\u001b[0m_setup_camera\u001b[0m\u001b[1;33m(\u001b[0m\u001b[0mfind_face\u001b[0m\u001b[1;33m,\u001b[0m \u001b[0mmin_confidence\u001b[0m\u001b[1;33m)\u001b[0m\u001b[1;33m\u001b[0m\u001b[0m\n\u001b[0m\u001b[0;32m    246\u001b[0m         print(\"Starting Camera, press q to quit with camera window in focus. \"\n\u001b[0;32m    247\u001b[0m               \"If it doesn't close, check caps lock and num lock.\", flush=True)\n",
      "\u001b[1;32m~\\github\\im_practical_programming\\all_seeing_drone\\all_seeing_drone\\drone.py\u001b[0m in \u001b[0;36m_setup_camera\u001b[1;34m(self, setup_face_finder, min_confidence)\u001b[0m\n\u001b[0;32m    186\u001b[0m             \u001b[0mprint\u001b[0m\u001b[1;33m(\u001b[0m\u001b[1;34m\"setting up KCF Tracker\"\u001b[0m\u001b[1;33m)\u001b[0m\u001b[1;33m\u001b[0m\u001b[0m\n\u001b[0;32m    187\u001b[0m             \u001b[1;31m# setting up tracker we'll use to track face when dnn can't recognize it\u001b[0m\u001b[1;33m\u001b[0m\u001b[1;33m\u001b[0m\u001b[0m\n\u001b[1;32m--> 188\u001b[1;33m             \u001b[0mself\u001b[0m\u001b[1;33m.\u001b[0m\u001b[0mtracker\u001b[0m \u001b[1;33m=\u001b[0m \u001b[0mcv2\u001b[0m\u001b[1;33m.\u001b[0m\u001b[0mTracker_create\u001b[0m\u001b[1;33m(\u001b[0m\u001b[1;34m'KCF'\u001b[0m\u001b[1;33m)\u001b[0m\u001b[1;33m\u001b[0m\u001b[0m\n\u001b[0m\u001b[0;32m    189\u001b[0m             \u001b[0mself\u001b[0m\u001b[1;33m.\u001b[0m\u001b[0mtracker_bb\u001b[0m \u001b[1;33m=\u001b[0m \u001b[1;32mNone\u001b[0m\u001b[1;33m\u001b[0m\u001b[0m\n\u001b[0;32m    190\u001b[0m \u001b[1;33m\u001b[0m\u001b[0m\n",
      "\u001b[1;31mAttributeError\u001b[0m: module 'cv2.cv2' has no attribute 'Tracker_create'"
     ]
    }
   ],
   "source": [
    "drone.show_camera(find_face=True)"
   ]
  },
  {
   "cell_type": "code",
   "execution_count": 4,
   "metadata": {},
   "outputs": [
    {
     "name": "stdout",
     "output_type": "stream",
     "text": [
      ">> Port : [COM5]\n",
      ">> Drone : [2817]\n",
      ">> Battery : [78]\n",
      "start\n",
      "ready to send\n"
     ]
    },
    {
     "name": "stderr",
     "output_type": "stream",
     "text": [
      "Exception in thread Thread-11:\n",
      "Traceback (most recent call last):\n",
      "  File \"C:\\Users\\Mikey\\AppData\\Local\\Programs\\Python\\Python36\\lib\\threading.py\", line 916, in _bootstrap_inner\n",
      "    self.run()\n",
      "  File \"C:\\Users\\Mikey\\AppData\\Local\\Programs\\Python\\Python36\\lib\\threading.py\", line 864, in run\n",
      "    self._target(*self._args, **self._kwargs)\n",
      "  File \"C:\\Users\\Mikey\\github\\im_practical_programming\\all_seeing_drone\\.venv\\lib\\site-packages\\CoDrone\\codrone.py\", line 144, in _receiving\n",
      "    self._bufferQueue.put(self._serialPort.read())\n",
      "  File \"C:\\Users\\Mikey\\github\\im_practical_programming\\all_seeing_drone\\.venv\\lib\\site-packages\\serial\\serialwin32.py\", line 273, in read\n",
      "    raise SerialException(\"ClearCommError failed ({!r})\".format(ctypes.WinError()))\n",
      "serial.serialutil.SerialException: ClearCommError failed (PermissionError(13, 'Access is denied.', None, 5))\n",
      "\n"
     ]
    }
   ],
   "source": [
    "from all_seeing_drone.drone import SeeingDrone\n",
    "SeeingDrone.calibrate_drone()"
   ]
  },
  {
   "cell_type": "code",
   "execution_count": 1,
   "metadata": {},
   "outputs": [
    {
     "name": "stdout",
     "output_type": "stream",
     "text": [
      "pygame 1.9.6\n",
      "Hello from the pygame community. https://www.pygame.org/contribute.html\n"
     ]
    },
    {
     "name": "stderr",
     "output_type": "stream",
     "text": [
      "2020-04-26 18:03:20,659 [INFO ]  No joysticks found.\n"
     ]
    },
    {
     "name": "stdout",
     "output_type": "stream",
     "text": [
      "loading dnn model and weights from disk\n",
      "setting up KCF Tracker\n"
     ]
    },
    {
     "name": "stderr",
     "output_type": "stream",
     "text": [
      "2020-04-26 18:04:08,967 [INFO ]  elasped cam time: 44.93\n",
      "2020-04-26 18:04:08,974 [INFO ]  approx. cam FPS: 29.98\n",
      "2020-04-26 18:04:08,980 [INFO ]  elasped act time: 44.93\n",
      "2020-04-26 18:04:08,986 [INFO ]  approx. act FPS: 6.52\n"
     ]
    },
    {
     "name": "stdout",
     "output_type": "stream",
     "text": [
      "Writing out video to C:\\Users\\Mikey\\Videos\\droneVideos\\drone_20200426_1803.avi\n"
     ]
    }
   ],
   "source": [
    "from all_seeing_drone.drone import SeeingDrone\n",
    "\n",
    "drone = SeeingDrone(r\"C:\\Users\\Mikey\\Videos\\droneVideos\")\n",
    "drone.computer_video_check(find_face=True)"
   ]
  }
 ],
 "metadata": {
  "kernelspec": {
   "display_name": ".venv",
   "language": "python",
   "name": ".venv"
  },
  "language_info": {
   "codemirror_mode": {
    "name": "ipython",
    "version": 3
   },
   "file_extension": ".py",
   "mimetype": "text/x-python",
   "name": "python",
   "nbconvert_exporter": "python",
   "pygments_lexer": "ipython3",
   "version": "3.6.5"
  }
 },
 "nbformat": 4,
 "nbformat_minor": 2
}
