{
 "cells": [
  {
   "cell_type": "markdown",
   "metadata": {},
   "source": [
    "## How to Use\n",
    "You need to create a virtual environment, point this notebook to the virtual environment, and then run the first code cell.\n",
    "\n",
    "To create the venv ([this link is helpful](https://janakiev.com/blog/jupyter-virtual-envs/)):\n",
    "\n",
    "```\n",
    "# create virtual env by doing going to the root of the git repo in a command line tool like gitbash\n",
    "# where you want to create the virtual environment, and doing the below command\n",
    "python -m venv .venv\n",
    "# activate it so you can run code with it by doing the below in windows:\n",
    ".venv/Scripts/activate.bat\n",
    "# then install required libraries\n",
    "pip install -r requirements.txt\n",
    "pip install ipykernel\n",
    "\n",
    "# setup this as a ipykernel you can use in the jupyter notebook\n",
    "python -m ipykernel install --name=.venv\n",
    "# then when done use the below command to remove\n",
    "jupyter kernelspec uninstall .venv\n",
    "\n",
    "# finally in jupyter notebook change your kernel to this new one by going to kernel dropdown in the top and then change kernel, and then .venv\n",
    "```"
   ]
  },
  {
   "cell_type": "code",
   "execution_count": 1,
   "metadata": {},
   "outputs": [
    {
     "name": "stdout",
     "output_type": "stream",
     "text": [
      "pygame 1.9.6\n",
      "Hello from the pygame community. https://www.pygame.org/contribute.html\n",
      ">> Port : [COM5]\n",
      ">> Drone : [2817]\n",
      ">> Battery : [100]\n",
      "loading dnn model and weights from disk\n",
      "loading eye detector\n",
      "setting up kcf Tracker\n",
      "Starting Camera, press q to quit and land drone with camera window in focus. If it doesn't close, check caps lock and num lock. \n",
      "Press H to hover to continue flight.\n",
      "taking off\n",
      "done taking off\n",
      "landing\n",
      "Writing out video to C:\\Users\\Mikey\\Videos\\droneVideos\\drone_20200823_1139.avi\n",
      "Writing out raw video to C:\\Users\\Mikey\\Videos\\droneVideos\\drone_20200823_1139_raw.avi\n"
     ]
    }
   ],
   "source": [
    "from all_seeing_drone.drone import SeeingDrone\n",
    "\n",
    "# change the directory here to be the output directory on your computer. Output videos and log files will be written there.\n",
    "drone = SeeingDrone(r\"C:\\Users\\Mikey\\Videos\\droneVideos\")\n",
    "\n",
    "# launch the drone with autonomy below\n",
    "drone.activate_drone(find_face=True, launch=True, use_tracker=True, keep_distance=True)"
   ]
  },
  {
   "cell_type": "markdown",
   "metadata": {},
   "source": [
    "This below cell is useful if you see drone drift. Restart your kernel and then run this cell."
   ]
  },
  {
   "cell_type": "code",
   "execution_count": 1,
   "metadata": {},
   "outputs": [
    {
     "name": "stdout",
     "output_type": "stream",
     "text": [
      "pygame 1.9.6\n",
      "Hello from the pygame community. https://www.pygame.org/contribute.html\n",
      ">> Port : [COM5]\n",
      ">> Drone : [2817]\n",
      ">> Battery : [100]\n",
      "start\n",
      "ready to send\n"
     ]
    }
   ],
   "source": [
    "from all_seeing_drone.drone import SeeingDrone\n",
    "SeeingDrone.calibrate_drone()"
   ]
  },
  {
   "cell_type": "markdown",
   "metadata": {},
   "source": [
    "The below is a useful function to debug the computer vision aspects of the drone. It doesn't launch the drone. Restart kernel then run below cell"
   ]
  },
  {
   "cell_type": "code",
   "execution_count": 2,
   "metadata": {},
   "outputs": [
    {
     "name": "stdout",
     "output_type": "stream",
     "text": [
      "loading dnn model and weights from disk\n",
      "loading eye detector\n",
      "setting up kcf Tracker\n",
      "entering loop, press q to quit. If this doesn't work make sure video frame is in focus, and caps lock and num lock are off.\n",
      "Writing out video to C:\\Users\\Mikey\\Videos\\droneVideos\\drone_20200823_1142.avi\n",
      "Writing out raw video to C:\\Users\\Mikey\\Videos\\droneVideos\\drone_20200823_1142_raw.avi\n"
     ]
    }
   ],
   "source": [
    "from all_seeing_drone.drone import SeeingDrone\n",
    "\n",
    "import logging\n",
    "\n",
    "drone = SeeingDrone(r\"C:\\Users\\Mikey\\Videos\\droneVideos\", logging_level=logging.DEBUG)\n",
    "# uncomment the below to use drone camera\n",
    "src=r'rtsp://192.168.100.1/cam1/mpeg4'\n",
    "# uncomment the below to use webcam camera. Note estimate distance is calibrated to drone camera only\n",
    "# I wouldn't expect it to work with your webcam\n",
    "# src = 0\n",
    "drone.computer_video_check(src=src, find_distance=True, write_camera_focal_debug=True)"
   ]
  }
 ],
 "metadata": {
  "kernelspec": {
   "display_name": ".venv",
   "language": "python",
   "name": ".venv"
  },
  "language_info": {
   "codemirror_mode": {
    "name": "ipython",
    "version": 3
   },
   "file_extension": ".py",
   "mimetype": "text/x-python",
   "name": "python",
   "nbconvert_exporter": "python",
   "pygments_lexer": "ipython3",
   "version": "3.6.5"
  }
 },
 "nbformat": 4,
 "nbformat_minor": 2
}
